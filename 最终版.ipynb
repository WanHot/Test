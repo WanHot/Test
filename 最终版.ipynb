{
 "cells": [
  {
   "cell_type": "raw",
   "metadata": {},
   "source": [
    "# The Answer To The Question\n",
    "Q1\n",
    "1.Since the individual domain is not proposed in this question, \n",
    "    the total individual domain is used.\n",
    "    assume M(x) : x is a people.\n",
    "    assume F(x) : x with black hair. \n",
    "    That can be written x(M(x)⇒F(x)):\n",
    "    assume a is a girl with blonde hair, \n",
    "    that is  M(a) is true,F(a) is false.\n",
    "    so M(a)⇒F(a) is false,\n",
    "    Therefore Propositional is false.\n",
    "\n",
    "2.assume G(x) : x boarded the moon.\n",
    "    Propositional symbolization as x(M(x)∧G(x)).\n",
    "    assume a is an American who completed the Apollo program on the moon in 1969.\n",
    "    that is  M(a)∧G(a) is true.\n",
    "    Therefore Propositional is true.\n",
    "  \n",
    "3.assume H(x) : x boarded the Jupiter.\n",
    "    Propositional symbolization as ￢x(M(x)∧H(x)).\n",
    "    No one has boarded Jupiter so far.\n",
    "    assume anyone is a,then M(a) ∧H(a) of all is false.\n",
    "    Therefore x(M(x)∧H(x)) is false.\n",
    "    so Propositional is true.\n",
    "    \n",
    "4.assume F(x) : x is a student studying in the US. \n",
    "    G(x) : x is Asian.\n",
    "    Propositional symbolization as ￢x(F(x)⇒G(x)).\n",
    "    Therefore Propositional is true.\n",
    "\n"
   ]
  },
  {
   "cell_type": "raw",
   "metadata": {},
   "source": [
    "Q2\n",
    "According to the conditions:\n",
    "1.tautology : just Replacement instance p⇒(q⇒p)\n",
    "2.contradiction: just Replacement instance ￢p⇒(q⇒p)\n",
    "3.\n",
    "    explain 1:Individual domain N,\n",
    "    F(x):x>5,G(x) : x>4, \n",
    "    formula is true.\n",
    "    \n",
    "    explain 2: Individual domain N,\n",
    "    F(x):x<5,G(x) : x<4, \n",
    "    formula is false.\n",
    "    in conclusion:Non permanent satisfaction\n",
    "   "
   ]
  },
  {
   "cell_type": "raw",
   "metadata": {},
   "source": [
    "Q3\n",
    "False |= True is true because False has no models and hence entails every sentence \n",
    "and because True is true in all models and hence is entailed by every sentence.\n",
    "\n",
    "(A ∧ B) |= (A ⇔ B) is true\n",
    "because the left-hand side has exactly one model that is one of the two models of the right-hand side.\n",
    "\n",
    "(A ∧ B) ⇒ C |= (A ⇒ C) ∨ (B ⇒ C) is true \n",
    "because the RHS is false only when both disjuncts are false, i.e.,\n",
    "\n",
    "when A and B are true and C is false, in which case the LHS is also false. \n",
    "This may seem counterintuitive, and would not hold if ⇒ is interpreted as “causes.”\n",
    "(A ∨ B) ∧ (￢C ∨ ￢D ∨ E) |= (A ∨ B) is true; removing a conjunct only allows more models.\n",
    "(A∨B)∧(￢C ∨￢D∨E) |= (A∨B)∧(￢D∨E) is false; removing a disjunct allows fewer models. \n"
   ]
  },
  {
   "cell_type": "raw",
   "metadata": {},
   "source": [
    "Q4\n",
    "P∧(Q⇒R)⇒S\n",
    "=￢(P∧(￢Q∨R))∨S\n",
    "=￢P∨￢(￢Q∨R)∨S\n",
    "=￢P∨(￢￢Q∧￢R)∨S\n",
    "=￢P∨(Q∧￢R)∨S\n",
    "=￢P∨S∨(Q∧￢R)\n",
    "=(￢P∨S∨Q)∧(￢P∨S∨￢R)"
   ]
  },
  {
   "cell_type": "raw",
   "metadata": {},
   "source": [
    "Q5\n",
    "∀ x Even(x) ⇔ ∃ y x=y + y.\n",
    "∀ x Prime(x) ⇔ ∀ y, z x=y ×z ⇒ y =1 ∨ z =1.\n",
    "∀ x Even(x) ⇒ ∃ y, z Prime(y) ∧ Prime(z) ∧ x=y + z."
   ]
  },
  {
   "attachments": {
    "image.png": {
     "image/png": "[encoded data removed]"
    }
   },
   "cell_type": "markdown",
   "metadata": {},
   "source": [
    "# Programming \n",
    "  Q2\n",
    "                Adversarial Ghost     RandomGhost\n",
    "Minimax Pacman     won 0/5               won 0/5\n",
    "                 avg.Score:419        avg.Score:402\n",
    "Expectimax Pacman   won 0/5               won 0/5\n",
    "                 avg.Score:419        avg.Score:402\n",
    "  \n",
    "  ![image.png](attachment:image.png)\n",
    "  "
   ]
  },
  {
   "cell_type": "raw",
   "metadata": {},
   "source": [
    "\n",
    "Q3\n",
    "The truth is this:\n",
    "one ghost: it's the only one who is chasing the pacman all the time.  The other ghost: it's also trying to get itself to a certain pixel position.Since pac-man needs to constantly eat beans everywhere, the ghosts will constantly change direction to achieve their goals, which give a player a misconception-sharing the information. \n"
   ]
  }
 ],
 "metadata": {
  "kernelspec": {
   "display_name": "Python 3",
   "language": "python",
   "name": "python3"
  },
  "language_info": {
   "codemirror_mode": {
    "name": "ipython",
    "version": 3
   },
   "file_extension": ".py",
   "mimetype": "text/x-python",
   "name": "python",
   "nbconvert_exporter": "python",
   "pygments_lexer": "ipython3",
   "version": "3.6.1"
  }
 },
 "nbformat": 4,
 "nbformat_minor": 2
}
